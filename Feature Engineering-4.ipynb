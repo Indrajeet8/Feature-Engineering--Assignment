{
 "cells": [
  {
   "cell_type": "markdown",
   "id": "150b1c8e-49f4-4003-956d-3728f86824a4",
   "metadata": {},
   "source": [
    "## Feature Engineering-4\n",
    "Assignment Questions"
   ]
  },
  {
   "cell_type": "code",
   "execution_count": 1,
   "id": "f97dd2c6-b0da-4228-a49d-64507c8f733b",
   "metadata": {},
   "outputs": [],
   "source": [
    "# Q1. What is data encoding? How is it useful in data science?"
   ]
  },
  {
   "cell_type": "markdown",
   "id": "70051edd-df1e-4999-b459-0f75d2e68be9",
   "metadata": {},
   "source": [
    "## Ans\n",
    "Data encoding is the process of converting data from one form to another, usually for the purpose of transmission, storage, or analysis. Data decoding is the reverse process of converting data back to its original form, usually for the purpose of interpretation or use."
   ]
  },
  {
   "cell_type": "markdown",
   "id": "61de9b0b-e21f-4a44-8027-fe6d49281f4b",
   "metadata": {},
   "source": [
    "1. Prepare data for analysis by transforming it into a suitable format that can be processed by algorithms or models.\n",
    "2. Engineer features by extracting relevant information from data and creating new variables that can improve the performance or accuracy of analysis.\n",
    "3. Compress data by reducing its size or complexity without losing its essential information or quality.\n",
    "4. Protect data by encrypting it or masking it to prevent unauthorized access or disclosure."
   ]
  },
  {
   "cell_type": "code",
   "execution_count": 2,
   "id": "6a451592-a264-40eb-85d8-a09e8e59b3f3",
   "metadata": {},
   "outputs": [],
   "source": [
    "## Q2. What is nominal encoding? Provide an example of how you would use it in a real-world scenario."
   ]
  },
  {
   "cell_type": "markdown",
   "id": "17e9d6e2-eaf5-462d-9e4d-34f114f48876",
   "metadata": {},
   "source": [
    "# Ans \n",
    "Nominal Encoding\n",
    "When we have a feature where variables are just names and there is no order or rank to this variable's feature. For example: City of person lives in, Gender of person, Marital Status, etc… In the above example, We do not have any order or rank, or sequence."
   ]
  },
  {
   "cell_type": "markdown",
   "id": "8f00a111-a844-4407-a0d6-ac403299a308",
   "metadata": {},
   "source": [
    "Common examples\n",
    "include male/female (albeit somewhat outdated), hair color, nationalities, names of people, and so on. In plain English: basically, they're labels (and nominal comes from \"name\" to help you remember). You have brown hair (or brown eyes). You are American."
   ]
  },
  {
   "cell_type": "code",
   "execution_count": 3,
   "id": "7935affb-8765-4578-9861-5c3e95cc51a4",
   "metadata": {},
   "outputs": [],
   "source": [
    "## Q3. In what situations is nominal encoding preferred over one-hot encoding? Provide a practical example."
   ]
  },
  {
   "cell_type": "markdown",
   "id": "53dfb5d1-ec87-4e8f-b912-823844bd308d",
   "metadata": {},
   "source": [
    "## Ans"
   ]
  },
  {
   "cell_type": "markdown",
   "id": "7a805eca-a6fd-4e55-a909-5e6a1b226f57",
   "metadata": {},
   "source": [
    "Ordinal Encoding and a One-Hot Encoding.\n",
    "Encoding is a required pre-processing step when working with categorical data for machine learning algorithms.\n",
    "How to use ordinal encoding for categorical variables that have a natural rank ordering.\n",
    "How to use one-hot encoding for categorical variables that do not have a natural rank ordering."
   ]
  },
  {
   "cell_type": "code",
   "execution_count": 4,
   "id": "9ce41e13-f644-441c-9b07-e4aae275c994",
   "metadata": {},
   "outputs": [
    {
     "name": "stdout",
     "output_type": "stream",
     "text": [
      "[['red']\n",
      " ['green']\n",
      " ['blue']]\n",
      "[[2.]\n",
      " [1.]\n",
      " [0.]]\n"
     ]
    }
   ],
   "source": [
    "# example of a ordinal encoding\n",
    "from numpy import asarray\n",
    "from sklearn.preprocessing import OrdinalEncoder\n",
    "# define data\n",
    "data = asarray([['red'], ['green'], ['blue']])\n",
    "print(data)\n",
    "# define ordinal encoding\n",
    "encoder = OrdinalEncoder()\n",
    "# transform data\n",
    "result = encoder.fit_transform(data)\n",
    "print(result)"
   ]
  },
  {
   "cell_type": "code",
   "execution_count": null,
   "id": "7d30c979-5b58-4749-aef5-5563771df23c",
   "metadata": {},
   "outputs": [],
   "source": []
  },
  {
   "cell_type": "raw",
   "id": "9f3fe850-6123-426c-9b2e-7092d64051d2",
   "metadata": {},
   "source": [
    "Q4. Suppose you have a dataset containing categorical data with 5 unique values. Which encoding\n",
    "technique would you use to transform this data into a format suitable for machine learning algorithms?\n",
    "Explain why you made this choice."
   ]
  },
  {
   "cell_type": "markdown",
   "id": "c1b42cf9-dcb8-4997-a113-c17df56ea477",
   "metadata": {},
   "source": [
    "## Ans\n",
    "categorical data in a dataset, you typically need to transform it into a numerical format that machine learning algorithms can understand and process. There are several encoding techniques available, but the choice depends on the nature of the data and the specific machine learning algorithm\n",
    "One-Hot Encoding:\n",
    "One-Hot Encoding is a technique used to represent categorical variables as binary vectors. Each unique category is converted into a binary vector where all elements are zero except for the element corresponding to the category, which is marked as 1. For example, if you have five categories A, B, C, D, and E, the One-Hot Encoding will convert each of these categories into binary vectors like [1, 0, 0, 0, 0], [0, 1, 0, 0, 0], [0, 0, 1, 0, 0], [0, 0, 0, 1, 0], and [0, 0, 0, 0, 1].\n",
    "1. Preservation of Information:\n",
    "2. Suitable for Categorical Features with a Few Unique Values\n",
    "3. Compatible with Most Algorithms\n",
    "4. Avoiding Misinterpretation:\n",
    "    "
   ]
  },
  {
   "cell_type": "code",
   "execution_count": null,
   "id": "7312c790-73df-465d-a129-3ef196da28e4",
   "metadata": {},
   "outputs": [],
   "source": []
  },
  {
   "cell_type": "raw",
   "id": "0fb03435-2492-4370-beec-8f90a43994f3",
   "metadata": {},
   "source": [
    "Q5. In a machine learning project, you have a dataset with 1000 rows and 5 columns. Two of the columns\n",
    "are categorical, and the remaining three columns are numerical. If you were to use nominal encoding to\n",
    "transform the categorical data, how many new columns would be created? Show your calculations."
   ]
  },
  {
   "cell_type": "markdown",
   "id": "8b88e57a-0b6a-4ac2-be64-ace348c1c5c2",
   "metadata": {},
   "source": [
    "# Ans\n",
    "In nominal encoding, also known as one-hot encoding, each unique category in a categorical column is converted into a binary vector. The binary vector has a length equal to the number of unique categories in that column, and it contains only one '1' and the rest are '0's, indicating the presence of that category."
   ]
  },
  {
   "cell_type": "markdown",
   "id": "a75fb835-0ce2-4dd1-9185-2690e741a2c1",
   "metadata": {},
   "source": [
    "Let's assume the two categorical columns have the following unique category counts:\n",
    "\n",
    "Categorical Column 1: n1 unique categories\n",
    "Categorical Column 2: n2 unique categories\n",
    "\n",
    "To calculate the number of new columns created after nominal encoding, we sum up the number of unique categories in both categorical columns.\n",
    "\n",
    "Total new columns created = n1 + n2\n",
    "\n"
   ]
  },
  {
   "cell_type": "code",
   "execution_count": null,
   "id": "79d775d6-9e32-451e-8892-4718a7d507f8",
   "metadata": {},
   "outputs": [],
   "source": []
  },
  {
   "cell_type": "raw",
   "id": "eea83f03-f31d-4514-ad33-9c713d212182",
   "metadata": {},
   "source": [
    "Q6. You are working with a dataset containing information about different types of animals, including their\n",
    "species, habitat, and diet. Which encoding technique would you use to transform the categorical data into\n",
    "a format suitable for machine learning algorithms? Justify your answer."
   ]
  },
  {
   "cell_type": "markdown",
   "id": "632a733f-b9eb-4324-b8b7-beceeb37f3f1",
   "metadata": {},
   "source": [
    "# Ans \n",
    "One-Hot Encoding:\n",
    "One-hot encoding is a widely used technique to represent categorical data. In this method, each category is converted into a binary vector, where each category is represented by a separate binary column.\n",
    "\n",
    "Label Encoding:\n",
    "Label encoding involves assigning a unique integer to each category. This method is suitable when there is an ordinal relationship among the categories"
   ]
  },
  {
   "cell_type": "code",
   "execution_count": null,
   "id": "b94455e1-bebd-42c4-aa37-cae2d279c212",
   "metadata": {},
   "outputs": [],
   "source": []
  },
  {
   "cell_type": "raw",
   "id": "e9a84f64-9f8d-450d-874b-c40d3d40f6bd",
   "metadata": {},
   "source": [
    "Q7.You are working on a project that involves predicting customer churn for a telecommunications\n",
    "company. You have a dataset with 5 features, including the customer's gender, age, contract type,\n",
    "monthly charges, and tenure. Which encoding technique(s) would you use to transform the categorical\n",
    "data into numerical data? Provide a step-by-step explanation of how you would implement the encoding."
   ]
  },
  {
   "cell_type": "markdown",
   "id": "b79d3984-12c3-4437-b165-ce1e3cda7b9a",
   "metadata": {},
   "source": [
    "## Ans\n",
    "1. Gender (Binary Categorical): Since gender has two categories (male and female), we can use binary encoding to represent this feature.\n",
    "\n",
    "2. Contract Type (Nominal Categorical): Contract type may have multiple categories (e.g., month-to-month, one-year, two-year), so we will use one-hot encoding to represent this feature"
   ]
  },
  {
   "cell_type": "code",
   "execution_count": 5,
   "id": "ff7f498c-0488-4134-b1de-f52b1a6dc7d5",
   "metadata": {},
   "outputs": [],
   "source": [
    "import pandas as pd\n",
    "from sklearn.preprocessing import OneHotEncoder\n"
   ]
  },
  {
   "cell_type": "code",
   "execution_count": 10,
   "id": "562955ff-9f99-4731-b918-06ab4da4ce7e",
   "metadata": {},
   "outputs": [],
   "source": [
    "# Assuming the dataset is in a CSV file named 'customer_churn_data.csv'\n",
    "df = pd.read_csv('Customer Churn Data.csv')\n"
   ]
  },
  {
   "cell_type": "code",
   "execution_count": 11,
   "id": "4bbd61d3-7a8f-4166-a9ea-948f1d9f8b6a",
   "metadata": {},
   "outputs": [],
   "source": [
    "categorical_features = ['gender', 'contract_type']\n",
    "numerical_features = ['age', 'monthly_charges', 'tenure']\n"
   ]
  },
  {
   "cell_type": "code",
   "execution_count": null,
   "id": "438411b6-c0dd-4bd7-b0cf-a7afd1605022",
   "metadata": {},
   "outputs": [],
   "source": []
  }
 ],
 "metadata": {
  "kernelspec": {
   "display_name": "Python 3 (ipykernel)",
   "language": "python",
   "name": "python3"
  },
  "language_info": {
   "codemirror_mode": {
    "name": "ipython",
    "version": 3
   },
   "file_extension": ".py",
   "mimetype": "text/x-python",
   "name": "python",
   "nbconvert_exporter": "python",
   "pygments_lexer": "ipython3",
   "version": "3.10.8"
  }
 },
 "nbformat": 4,
 "nbformat_minor": 5
}
