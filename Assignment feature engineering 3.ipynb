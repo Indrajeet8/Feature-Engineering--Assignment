{
 "cells": [
  {
   "cell_type": "markdown",
   "id": "41fb85f2-8602-4793-9c17-686bae1b61ab",
   "metadata": {},
   "source": [
    "## Feature Engineering-3"
   ]
  },
  {
   "cell_type": "markdown",
   "id": "b5b7e85d-b032-4679-8819-a270485531c0",
   "metadata": {},
   "source": [
    "Assignment Questions"
   ]
  },
  {
   "cell_type": "raw",
   "id": "616051fa-801f-4e45-bf88-b693bd6a7132",
   "metadata": {},
   "source": [
    "Q1. What is Min-Max scaling, and how is it used in data preprocessing? Provide an example to illustrate its\n",
    "application."
   ]
  },
  {
   "cell_type": "markdown",
   "id": "e6dd9f17-97d0-408f-a395-523e180cf8bf",
   "metadata": {},
   "source": [
    "MinMax Scaler shrinks the data within the given range, usually of 0 to 1. It transforms data by scaling features to a given range. It scales the values to a specific value range without changing the shape of the original distribution."
   ]
  },
  {
   "cell_type": "raw",
   "id": "04d96d45-d2dd-4996-ba79-08e091b3988b",
   "metadata": {},
   "source": [
    "Q2.what is the unit vecter technique in feachure scaling and how does itdiffer from min max scaling provide an example to ittustrite its application "
   ]
  },
  {
   "cell_type": "markdown",
   "id": "c133b3a3-9cb7-41f1-924d-8806575709d6",
   "metadata": {},
   "source": [
    "Like Min-Max Scaling, the Unit Vector technique produces values of range [0,1]. When dealing with features with hard boundaries, this is quite useful. \n",
    "\n",
    "For example, when dealing with image data, the colors can range from only 0 to 100. If we plot, then it would look as below for L1 and L2 norm, respectively"
   ]
  },
  {
   "cell_type": "code",
   "execution_count": null,
   "id": "a8b0f0d8-46da-4967-b6e0-18f50a822d94",
   "metadata": {},
   "outputs": [],
   "source": []
  },
  {
   "cell_type": "raw",
   "id": "79894196-4b77-4b4f-8e62-f196a4515553",
   "metadata": {},
   "source": [
    "Q3. What is PCA (Principle Component Analysis), and how is it used in dimensionality reduction? Provide an\n",
    "example to illustrate its application."
   ]
  },
  {
   "cell_type": "markdown",
   "id": "d94a3ca2-a108-4cb5-a047-5665402743c8",
   "metadata": {},
   "source": [
    "Principal component analysis, or PCA, is a dimensionality reduction method that is often used to reduce the dimensionality of large data sets, by transforming a large set of variables into a smaller one that still contains most of the information in the large set."
   ]
  },
  {
   "cell_type": "markdown",
   "id": "929982b8-d947-4d90-9669-5e686b474f0f",
   "metadata": {},
   "source": [
    "Example pf PCA \n",
    "real-world applications of PCA are image processing, movie recommendation system, optimizing the power allocation in various communication channels"
   ]
  },
  {
   "cell_type": "code",
   "execution_count": null,
   "id": "49002ffc-a280-405b-9b5b-0cf736763bc8",
   "metadata": {},
   "outputs": [],
   "source": []
  },
  {
   "cell_type": "raw",
   "id": "d5de5b7c-1c1d-414e-a6a6-ed1cc02c1ff1",
   "metadata": {},
   "source": [
    "Q4. What is the relationship between PCA and Feature Extraction, and how can PCA be used for Feature\n",
    "Extraction? Provide an example to illustrate this concept."
   ]
  },
  {
   "cell_type": "markdown",
   "id": "54adba41-a4d4-4a3e-8454-c59efd3819c3",
   "metadata": {},
   "source": [
    "PCA is a dimensionality reduction technique that has four main parts: feature covariance, eigendecomposition, principal component transformation, and choosing components in terms of explained variance."
   ]
  },
  {
   "cell_type": "code",
   "execution_count": null,
   "id": "2a5ccd92-1af4-469e-9d87-13fa7a3caeb1",
   "metadata": {},
   "outputs": [],
   "source": []
  },
  {
   "cell_type": "raw",
   "id": "8c93b1fa-470e-42dd-bfd3-bb744c1bb7be",
   "metadata": {},
   "source": [
    "Q5. You are working on a project to build a recommendation system for a food delivery service. The dataset\n",
    "contains features such as price, rating, and delivery time. Explain how you would use Min-Max scaling to\n",
    "preprocess the data."
   ]
  },
  {
   "cell_type": "markdown",
   "id": "6b5b6409-18f9-456e-bb87-d59c225aab02",
   "metadata": {},
   "source": [
    "system for a food delivery service , Min Max scaling is a preprocessing technique used to normalize numerical fechures with in a specific range,  the purpose of min max scaling is to bring all the feachures to a a commanm  scale preventong certain feachures from domainating the model training process simply due  to thier largermagnitude this ensures that all feachures contribute equally  to the recommendation process \n",
    "\n",
    "1. Identify the numerical feachures in dataset you would have identifeied the numerical feachures  that need to be scaled in this case the feachuire might include price rating and delivery time \n",
    "\n",
    "2.  Define the range : decide on the dised ramge you want to scale the feachures to. \n",
    "\n",
    "3. Calculate min max scalimg for each feachure \n",
    "\n",
    "4. apply the scaling para meters \n",
    "\n",
    "5. store the scaling parameters \n",
    "\n",
    "6. use the preprocessed data for the recommendation system \n",
    "\n"
   ]
  },
  {
   "cell_type": "code",
   "execution_count": null,
   "id": "31d16749-8694-4dcf-8753-c4f8af7c20a8",
   "metadata": {},
   "outputs": [],
   "source": []
  },
  {
   "cell_type": "code",
   "execution_count": null,
   "id": "18cc4b5c-c55a-40dc-b2b1-113bf689fcfb",
   "metadata": {},
   "outputs": [],
   "source": []
  },
  {
   "cell_type": "raw",
   "id": "1e33db70-c6ee-4050-af98-50970d91cd35",
   "metadata": {},
   "source": [
    "Q6. You are working on a project to build a model to predict stock prices. The dataset contains many\n",
    "features, such as company financial data and market trends. Explain how you would use PCA to reduce the\n",
    "dimensionality of the dataset."
   ]
  },
  {
   "cell_type": "code",
   "execution_count": null,
   "id": "7603a650-038b-4bec-8341-fecd3d39a39c",
   "metadata": {},
   "outputs": [],
   "source": []
  },
  {
   "cell_type": "markdown",
   "id": "ee5640cc-ee16-4280-aaa2-fac524f0edf5",
   "metadata": {},
   "source": [
    "A model to predict stock prices the dataset likely contains numerous , such as company finanical data and market trend as the number of feachure incresethe compexity of model also increse leading to potetial overfitting increased compuatination costand reduced model interpretability .\n",
    "PCA is a dimensinalality reduction technique that can help address these issues by reduceing he number of feachures while preserving most ofthe original informaion \n",
    "\n",
    "PCA to reduce the dimensionality ofthe s=dataset \n",
    "\n",
    "1. data Preprocessing :\n",
    "2. compute the covarince matrix \n",
    "3. Eigendecomposition of the covariance matrix: \n",
    "4. Rank the principal components:\n",
    "5. Select the number of principal component\n",
    "6. Project the data onto the selected principal component\n",
    "7. Reconstruct the data \n",
    "8. Use the reduced dataset for modeling:"
   ]
  },
  {
   "cell_type": "code",
   "execution_count": null,
   "id": "978db0a5-1231-400e-9563-ee00c87a468c",
   "metadata": {},
   "outputs": [],
   "source": []
  },
  {
   "cell_type": "raw",
   "id": "48507d69-613e-4362-be32-4eccdc88d130",
   "metadata": {},
   "source": [
    "Q7. For a dataset containing the following values: [1, 5, 10, 15, 20], perform Min-Max scaling to transform the\n",
    "values to a range of -1 to 1."
   ]
  },
  {
   "cell_type": "markdown",
   "id": "118d24f3-bdfe-467c-b5df-d0db14ebd8af",
   "metadata": {},
   "source": [
    "Calculate the minimum and maximum values in the dataset.\n",
    "Apply the Min-Max scaling formula to each value to scale them within the desired range.\n",
    "Min-Max scaling formula:\n",
    "Scaled Value = (X - min(X)) / (max(X) - min(X))\n",
    "\n"
   ]
  },
  {
   "cell_type": "markdown",
   "id": "f93e0f7d-eac1-4f68-9d17-c1b271159ec8",
   "metadata": {},
   "source": [
    "Let's apply this to the given dataset [1, 5, 10, 15, 20]:\n",
    "\n",
    "Calculate the minimum and maximum values:\n",
    "min = 1\n",
    "max = 20\n",
    "\n",
    "Apply the Min-Max scaling formula to each value:\n",
    "\n",
    "For X = 1:\n",
    "Scaled Value = (1 - 1) / (20 - 1) = 0 / 19 ≈ 0\n",
    "\n",
    "For X = 5:\n",
    "Scaled Value = (5 - 1) / (20 - 1) = 4 / 19 ≈ 0.21\n",
    "\n",
    "For X = 10:\n",
    "Scaled Value = (10 - 1) / (20 - 1) = 9 / 19 ≈ 0.47\n",
    "\n",
    "For X = 15:\n",
    "Scaled Value = (15 - 1) / (20 - 1) = 14 / 19 ≈ 0.74\n",
    "\n",
    "For X = 20:\n",
    "Scaled Value = (20 - 1) / (20 - 1) = 19 / 19 = 1"
   ]
  },
  {
   "cell_type": "code",
   "execution_count": null,
   "id": "7d8bc7f3-c3ed-40c2-8b2a-af10c53a28ff",
   "metadata": {},
   "outputs": [],
   "source": []
  },
  {
   "cell_type": "raw",
   "id": "2268036a-134a-4c4f-a08d-7a83e7310ce3",
   "metadata": {},
   "source": [
    "Q8. For a dataset containing the following features: [height, weight, age, gender, blood pressure], perform\n",
    "Feature Extraction using PCA. How many principal components would you choose to retain, and why?"
   ]
  },
  {
   "cell_type": "markdown",
   "id": "bc052e6e-adc6-4dfc-9938-e74d8add9c38",
   "metadata": {},
   "source": [
    " PCA on the dataset [height, weight, age, gender, blood pressure], we would follow these steps:\n",
    "\n",
    "Data Preprocessing: Before applying PCA, we need to preprocess the data. This includes handling missing values, encoding categorical variables (like gender), and standardizing or normalizing the numerical features (height, weight, age, blood pressure) to ensure they are on the same scale.\n",
    "\n",
    "Compute the Covariance Matrix: Calculate the covariance matrix for the standardized or normalized features. The covariance matrix is crucial for finding the principal components.\n",
    "\n",
    "Eigendecomposition: Perform eigendecomposition on the covariance matrix to find the eigenvectors and eigenvalues.\n",
    "\n",
    "Sort Eigenvalues: Sort the eigenvalues in descending order and identify the principal components. The principal components with higher eigenvalues explain more variance in the data.\n",
    "\n",
    "Choose the Number of Principal Components:"
   ]
  },
  {
   "cell_type": "code",
   "execution_count": null,
   "id": "ddd5b6ce-1631-4ac7-9781-e10851f8dc2c",
   "metadata": {},
   "outputs": [],
   "source": []
  }
 ],
 "metadata": {
  "kernelspec": {
   "display_name": "Python 3 (ipykernel)",
   "language": "python",
   "name": "python3"
  },
  "language_info": {
   "codemirror_mode": {
    "name": "ipython",
    "version": 3
   },
   "file_extension": ".py",
   "mimetype": "text/x-python",
   "name": "python",
   "nbconvert_exporter": "python",
   "pygments_lexer": "ipython3",
   "version": "3.10.8"
  }
 },
 "nbformat": 4,
 "nbformat_minor": 5
}
